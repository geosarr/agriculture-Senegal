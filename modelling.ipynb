{
 "cells": [
  {
   "cell_type": "code",
   "execution_count": 1,
   "metadata": {},
   "outputs": [],
   "source": [
    "%load_ext autoreload\n",
    "%autoreload 2"
   ]
  },
  {
   "cell_type": "code",
   "execution_count": 4,
   "metadata": {},
   "outputs": [],
   "source": [
    "import warnings\n",
    "warnings.simplefilter(action='ignore', category=FutureWarning) \n",
    "warnings.simplefilter(action='ignore', category=RuntimeWarning) \n",
    "\n",
    "# Modelling tools\n",
    "from sklearn.linear_model import LinearRegression\n",
    "from sklearn.preprocessing import PolynomialFeatures\n",
    "from sklearn.tree import DecisionTreeRegressor\n",
    "from statsmodels.nonparametric import kernel_regression\n",
    "from modellingtools import kfold, plot_learning_curve, rmse, test_models, cv_np_reg\n",
    "from sklearn.pipeline import Pipeline\n",
    "\n",
    "import pandas as pd"
   ]
  },
  {
   "cell_type": "code",
   "execution_count": 5,
   "metadata": {},
   "outputs": [
    {
     "data": {
      "text/html": [
       "<div>\n",
       "<style scoped>\n",
       "    .dataframe tbody tr th:only-of-type {\n",
       "        vertical-align: middle;\n",
       "    }\n",
       "\n",
       "    .dataframe tbody tr th {\n",
       "        vertical-align: top;\n",
       "    }\n",
       "\n",
       "    .dataframe thead th {\n",
       "        text-align: right;\n",
       "    }\n",
       "</style>\n",
       "<table border=\"1\" class=\"dataframe\">\n",
       "  <thead>\n",
       "    <tr style=\"text-align: right;\">\n",
       "      <th></th>\n",
       "      <th>production_kg</th>\n",
       "      <th>superficie</th>\n",
       "      <th>taille_menage</th>\n",
       "      <th>age</th>\n",
       "      <th>nbre_heure_travail</th>\n",
       "      <th>lat</th>\n",
       "      <th>lng</th>\n",
       "      <th>culture_label_Arachide</th>\n",
       "      <th>culture_label_Bissap</th>\n",
       "      <th>culture_label_Mais</th>\n",
       "      <th>culture_label_Manioc</th>\n",
       "      <th>culture_label_Mil</th>\n",
       "      <th>culture_label_Niebe</th>\n",
       "      <th>culture_label_Pasteque</th>\n",
       "      <th>culture_label_Riz</th>\n",
       "      <th>culture_label_Sesame</th>\n",
       "      <th>culture_label_Sorgho</th>\n",
       "    </tr>\n",
       "  </thead>\n",
       "  <tbody>\n",
       "    <tr>\n",
       "      <th>0</th>\n",
       "      <td>600</td>\n",
       "      <td>1.0</td>\n",
       "      <td>17</td>\n",
       "      <td>64</td>\n",
       "      <td>49</td>\n",
       "      <td>30.241695</td>\n",
       "      <td>-92.024755</td>\n",
       "      <td>0</td>\n",
       "      <td>0</td>\n",
       "      <td>1</td>\n",
       "      <td>0</td>\n",
       "      <td>0</td>\n",
       "      <td>0</td>\n",
       "      <td>0</td>\n",
       "      <td>0</td>\n",
       "      <td>0</td>\n",
       "      <td>0</td>\n",
       "    </tr>\n",
       "    <tr>\n",
       "      <th>1</th>\n",
       "      <td>100</td>\n",
       "      <td>1.5</td>\n",
       "      <td>9</td>\n",
       "      <td>55</td>\n",
       "      <td>49</td>\n",
       "      <td>12.913339</td>\n",
       "      <td>-14.161130</td>\n",
       "      <td>0</td>\n",
       "      <td>0</td>\n",
       "      <td>1</td>\n",
       "      <td>0</td>\n",
       "      <td>0</td>\n",
       "      <td>0</td>\n",
       "      <td>0</td>\n",
       "      <td>0</td>\n",
       "      <td>0</td>\n",
       "      <td>0</td>\n",
       "    </tr>\n",
       "  </tbody>\n",
       "</table>\n",
       "</div>"
      ],
      "text/plain": [
       "   production_kg  superficie  taille_menage  age  nbre_heure_travail  \\\n",
       "0            600         1.0             17   64                  49   \n",
       "1            100         1.5              9   55                  49   \n",
       "\n",
       "         lat        lng  culture_label_Arachide  culture_label_Bissap  \\\n",
       "0  30.241695 -92.024755                       0                     0   \n",
       "1  12.913339 -14.161130                       0                     0   \n",
       "\n",
       "   culture_label_Mais  culture_label_Manioc  culture_label_Mil  \\\n",
       "0                   1                     0                  0   \n",
       "1                   1                     0                  0   \n",
       "\n",
       "   culture_label_Niebe  culture_label_Pasteque  culture_label_Riz  \\\n",
       "0                    0                       0                  0   \n",
       "1                    0                       0                  0   \n",
       "\n",
       "   culture_label_Sesame  culture_label_Sorgho  \n",
       "0                     0                     0  \n",
       "1                     0                     0  "
      ]
     },
     "execution_count": 5,
     "metadata": {},
     "output_type": "execute_result"
    }
   ],
   "source": [
    "data=pd.read_csv(\"./data/model_data/train.csv\")\n",
    "data.head(2)"
   ]
  },
  {
   "cell_type": "code",
   "execution_count": null,
   "metadata": {},
   "outputs": [],
   "source": []
  }
 ],
 "metadata": {
  "kernelspec": {
   "display_name": "Python 3",
   "language": "python",
   "name": "python3"
  },
  "language_info": {
   "codemirror_mode": {
    "name": "ipython",
    "version": 3
   },
   "file_extension": ".py",
   "mimetype": "text/x-python",
   "name": "python",
   "nbconvert_exporter": "python",
   "pygments_lexer": "ipython3",
   "version": "3.7.4"
  }
 },
 "nbformat": 4,
 "nbformat_minor": 4
}
